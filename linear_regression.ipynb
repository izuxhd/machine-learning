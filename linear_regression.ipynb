{
  "nbformat": 4,
  "nbformat_minor": 0,
  "metadata": {
    "colab": {
      "name": "linear_regression.ipynb",
      "provenance": [],
      "private_outputs": true
    },
    "kernelspec": {
      "name": "python3",
      "display_name": "Python 3"
    }
  },
  "cells": [
    {
      "cell_type": "code",
      "metadata": {
        "id": "XEcXADgtHjED",
        "colab_type": "code",
        "colab": {}
      },
      "source": [
        "import sklearn\n",
        "import pandas as pd\n",
        "import numpy as np\n",
        "import matplotlib.pyplot as plt\n",
        "from sklearn.linear_model import LinearRegression\n",
        "from sklearn.metrics import mean_squared_error\n",
        "from sklearn.datasets import load_boston\n"
      ],
      "execution_count": 0,
      "outputs": []
    },
    {
      "cell_type": "code",
      "metadata": {
        "id": "nRJXK---I70v",
        "colab_type": "code",
        "colab": {}
      },
      "source": [
        "from sklearn.datasets import load_boston\n",
        "X, y = load_boston(return_X_y=True)\n",
        "#z=pd.DataFrame('X,y')\n",
        "print(X.shape)\n",
        "(506, 13)\n"
      ],
      "execution_count": 0,
      "outputs": []
    },
    {
      "cell_type": "code",
      "metadata": {
        "id": "8M4xQCPgJ7RL",
        "colab_type": "code",
        "colab": {}
      },
      "source": [
        "    boston = load_boston()\n",
        "\n",
        "    print(boston)"
      ],
      "execution_count": 0,
      "outputs": []
    },
    {
      "cell_type": "code",
      "metadata": {
        "id": "Ms0Ktk5mPWKV",
        "colab_type": "code",
        "colab": {}
      },
      "source": [
        "type(boston)"
      ],
      "execution_count": 0,
      "outputs": []
    },
    {
      "cell_type": "code",
      "metadata": {
        "id": "izAMvp6APZ7W",
        "colab_type": "code",
        "colab": {}
      },
      "source": [
        "boston.keys()"
      ],
      "execution_count": 0,
      "outputs": []
    },
    {
      "cell_type": "code",
      "metadata": {
        "id": "chsse1agQYBf",
        "colab_type": "code",
        "colab": {}
      },
      "source": [
        "boston.values()"
      ],
      "execution_count": 0,
      "outputs": []
    },
    {
      "cell_type": "code",
      "metadata": {
        "id": "ycmMKHLHQetv",
        "colab_type": "code",
        "colab": {}
      },
      "source": [
        "boston['DESCR']"
      ],
      "execution_count": 0,
      "outputs": []
    },
    {
      "cell_type": "code",
      "metadata": {
        "id": "xYLWAVVhQwgu",
        "colab_type": "code",
        "colab": {}
      },
      "source": [
        "len(boston.data)"
      ],
      "execution_count": 0,
      "outputs": []
    },
    {
      "cell_type": "code",
      "metadata": {
        "id": "fAbR8A9EQ1M-",
        "colab_type": "code",
        "colab": {}
      },
      "source": [
        "boston.feature_names\n",
        "len(boston.feature_names)"
      ],
      "execution_count": 0,
      "outputs": []
    },
    {
      "cell_type": "code",
      "metadata": {
        "id": "cD8a6F8BRC9c",
        "colab_type": "code",
        "colab": {}
      },
      "source": [
        "boston.data.shape"
      ],
      "execution_count": 0,
      "outputs": []
    },
    {
      "cell_type": "code",
      "metadata": {
        "id": "26KDPiNOR1_O",
        "colab_type": "code",
        "colab": {}
      },
      "source": [
        "file=pd.DataFrame(boston.data)"
      ],
      "execution_count": 0,
      "outputs": []
    },
    {
      "cell_type": "code",
      "metadata": {
        "id": "uZjQDbAMSCz0",
        "colab_type": "code",
        "colab": {}
      },
      "source": [
        "\n",
        "file.columns=boston.feature_names\n",
        "file['PRICE']=boston.target\n",
        "print(file.head(10))\n",
        "\n",
        "print(file.tail(10))"
      ],
      "execution_count": 0,
      "outputs": []
    },
    {
      "cell_type": "code",
      "metadata": {
        "id": "Ck_aCwhGSG0V",
        "colab_type": "code",
        "colab": {}
      },
      "source": [
        "print(type(file))"
      ],
      "execution_count": 0,
      "outputs": []
    },
    {
      "cell_type": "code",
      "metadata": {
        "id": "V54IpCLiTpNC",
        "colab_type": "code",
        "colab": {}
      },
      "source": [
        "Y=file['PRICE']\n",
        "X=file.drop('PRICE',axis=1)\n",
        "print(X.head())\n",
        "print(Y.head())"
      ],
      "execution_count": 0,
      "outputs": []
    },
    {
      "cell_type": "code",
      "metadata": {
        "id": "zJdwnI8uV18q",
        "colab_type": "code",
        "colab": {}
      },
      "source": [
        "X_train, X_test, Y_train, Y_test = sklearn.model_selection.train_test_split(X, Y, test_size = 0.33, random_state = 5)"
      ],
      "execution_count": 0,
      "outputs": []
    },
    {
      "cell_type": "code",
      "metadata": {
        "id": "jjXdflIdZp08",
        "colab_type": "code",
        "colab": {}
      },
      "source": [
        "    lm = LinearRegression()\n",
        "\n",
        "    lm.fit(X_train, Y_train)\n",
        "\n",
        "    "
      ],
      "execution_count": 0,
      "outputs": []
    },
    {
      "cell_type": "code",
      "metadata": {
        "id": "SKZNy1EgZ9Ns",
        "colab_type": "code",
        "colab": {}
      },
      "source": [
        " P_train = lm.predict(X_train)#Y_train\n",
        "\n",
        " P_test = lm.predict(X_test)#X_test"
      ],
      "execution_count": 0,
      "outputs": []
    },
    {
      "cell_type": "code",
      "metadata": {
        "id": "FwjS543Vb_Zi",
        "colab_type": "code",
        "colab": {}
      },
      "source": [
        "    df=pd.DataFrame(P_test,Y_test)\n",
        "\n",
        "    print(df.head()) "
      ],
      "execution_count": 0,
      "outputs": []
    },
    {
      "cell_type": "code",
      "metadata": {
        "id": "1mg2g9eWcjzR",
        "colab_type": "code",
        "colab": {}
      },
      "source": [
        "    mse = mean_squared_error(Y_test, P_test)\n",
        "\n",
        "    print(mse)"
      ],
      "execution_count": 0,
      "outputs": []
    },
    {
      "cell_type": "code",
      "metadata": {
        "id": "TWqSZL93c7Ub",
        "colab_type": "code",
        "colab": {}
      },
      "source": [
        "plt.plot(X_test,P_test)\n",
        "plt.show()"
      ],
      "execution_count": 0,
      "outputs": []
    },
    {
      "cell_type": "code",
      "metadata": {
        "id": "c1R-PHTsdMbC",
        "colab_type": "code",
        "colab": {}
      },
      "source": [
        "    plt.scatter(Y_train ,Y_train_pred,c='blue',marker='o',label='Training data')\n",
        "\n",
        "    plt.scatter(Y_test,P_test ,c='lightgreen',marker='s',label='Test data')\n",
        "\n",
        "    plt.xlabel('True values')\n",
        "\n",
        "    plt.ylabel('Predicted')\n",
        "\n",
        "    plt.title(\"True value vs Predicted value\")\n",
        "\n",
        "    plt.legend(loc= 'upper left')\n",
        "\n",
        "    #plt.hlines(y=0,xmin=0,xmax=50)\n",
        "\n",
        "    plt.plot()\n",
        "\n",
        "    plt.show()"
      ],
      "execution_count": 0,
      "outputs": []
    },
    {
      "cell_type": "code",
      "metadata": {
        "id": "ukTIIJg-dn4Y",
        "colab_type": "code",
        "colab": {}
      },
      "source": [
        ""
      ],
      "execution_count": 0,
      "outputs": []
    }
  ]
}