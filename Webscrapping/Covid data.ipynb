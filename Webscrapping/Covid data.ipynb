{
 "cells": [
  {
   "cell_type": "code",
   "execution_count": 1,
   "metadata": {},
   "outputs": [
    {
     "name": "stdout",
     "output_type": "stream",
     "text": [
      "Total Cases \n",
      "                            \n",
      " : 74,94,551\n",
      "Active \n",
      "                       (10.45%)\n",
      " : 7,83,311\n",
      " Discharged \n",
      "                           \n",
      "                           (88.03%)\n",
      "                           \n",
      " : 65,97,209\n",
      "Deaths  \n",
      "                          \n",
      "                                (1.52%)\n",
      "                          \n",
      " : 1,14,031\n",
      "\n"
     ]
    }
   ],
   "source": [
    "import requests\n",
    "import bs4\n",
    "import requests\n",
    "\n",
    "\n",
    "\n",
    "import tkinter as tk\n",
    "#get html data of website\n",
    "def get_html_data(url):\n",
    "  data=requests.get(url)\n",
    "  return data\n",
    "#web scrapping\n",
    "def get_corona_detail_of_india():\n",
    "  url=\"https://www.mygov.in/covid-19\"\n",
    "  html_data=get_html_data(url)\n",
    "  bs=bs4.BeautifulSoup(html_data.text,'html.parser')\n",
    "  info_div=bs.find(\"div\",class_=\"information_row\").find_all(\"div\",class_=\"iblock\")\n",
    "  all_details=\"\"\n",
    "  for block in info_div:\n",
    "    count=block.find(\"span\",class_=\"icount\").get_text()\n",
    "    text=block.find(\"div\",class_=\"info_label\").get_text()\n",
    "    #print(text+\" : \"+count)\n",
    "    #print(info_div)\n",
    "  #print(html_data.text)\n",
    "    all_details=all_details+text+\" : \"+count+\"\\n\"\n",
    "  #int(all_details)\n",
    "  return all_details  \n",
    "print(get_corona_detail_of_india()) \n",
    "\n"
   ]
  },
  {
   "cell_type": "code",
   "execution_count": null,
   "metadata": {},
   "outputs": [],
   "source": []
  }
 ],
 "metadata": {
  "kernelspec": {
   "display_name": "Python 3",
   "language": "python",
   "name": "python3"
  },
  "language_info": {
   "codemirror_mode": {
    "name": "ipython",
    "version": 3
   },
   "file_extension": ".py",
   "mimetype": "text/x-python",
   "name": "python",
   "nbconvert_exporter": "python",
   "pygments_lexer": "ipython3",
   "version": "3.7.1"
  }
 },
 "nbformat": 4,
 "nbformat_minor": 2
}
