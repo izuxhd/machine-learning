{
  "nbformat": 4,
  "nbformat_minor": 0,
  "metadata": {
    "colab": {
      "name": "logistic_regression.ipynb",
      "provenance": [],
      "private_outputs": true
    },
    "kernelspec": {
      "name": "python3",
      "display_name": "Python 3"
    }
  },
  "cells": [
    {
      "cell_type": "code",
      "metadata": {
        "id": "UsmQrQY_ta46",
        "colab_type": "code",
        "colab": {}
      },
      "source": [
        "import pandas as pd\n",
        "\n",
        "import matplotlib.pyplot as plt\n",
        "\n",
        "import numpy as np\n",
        "\n",
        "import sklearn\n",
        "\n",
        "from sklearn.linear_model import LogisticRegression"
      ],
      "execution_count": 0,
      "outputs": []
    },
    {
      "cell_type": "code",
      "metadata": {
        "id": "v_kKeH_ytpmx",
        "colab_type": "code",
        "colab": {}
      },
      "source": [
        "from sklearn.datasets import load_iris\n",
        "\n",
        "iris=load_iris()\n",
        "\n",
        "print(iris)"
      ],
      "execution_count": 0,
      "outputs": []
    },
    {
      "cell_type": "code",
      "metadata": {
        "id": "qiHt9i8ytsyL",
        "colab_type": "code",
        "colab": {}
      },
      "source": [
        "iris.keys()"
      ],
      "execution_count": 0,
      "outputs": []
    },
    {
      "cell_type": "code",
      "metadata": {
        "id": "ujFRGc1Etvnj",
        "colab_type": "code",
        "colab": {}
      },
      "source": [
        "print(iris.target_names)"
      ],
      "execution_count": 0,
      "outputs": []
    },
    {
      "cell_type": "code",
      "metadata": {
        "id": "lL2POYgqtypC",
        "colab_type": "code",
        "colab": {}
      },
      "source": [
        "print(iris.feature_names)"
      ],
      "execution_count": 0,
      "outputs": []
    },
    {
      "cell_type": "code",
      "metadata": {
        "id": "VVvUsWRPt1IK",
        "colab_type": "code",
        "colab": {}
      },
      "source": [
        "df=pd.DataFrame(iris.data)\n",
        "\n",
        "print(df.head())"
      ],
      "execution_count": 0,
      "outputs": []
    },
    {
      "cell_type": "code",
      "metadata": {
        "id": "9qTu4pApt4nT",
        "colab_type": "code",
        "colab": {}
      },
      "source": [
        "df.columns=iris.feature_names\n",
        "\n",
        "df.head()"
      ],
      "execution_count": 0,
      "outputs": []
    },
    {
      "cell_type": "code",
      "metadata": {
        "id": "LRbGv6JluQzL",
        "colab_type": "code",
        "colab": {}
      },
      "source": [
        "df.info()"
      ],
      "execution_count": 0,
      "outputs": []
    },
    {
      "cell_type": "code",
      "metadata": {
        "id": "35ivO7LkuVQD",
        "colab_type": "code",
        "colab": {}
      },
      "source": [
        "X=iris.data #Independent variable \n",
        "\n",
        "Y=iris.target # Dependent variable \n",
        "\n",
        "print(X.shape)\n",
        "\n",
        "print(Y.shape)"
      ],
      "execution_count": 0,
      "outputs": []
    },
    {
      "cell_type": "code",
      "metadata": {
        "id": "j6Tw6Mq1ubxx",
        "colab_type": "code",
        "colab": {}
      },
      "source": [
        "X_train,X_test,Y_train,Y_test=sklearn.model_selection.train_test_split(X,Y,test_size=0.25,random_state=2)"
      ],
      "execution_count": 0,
      "outputs": []
    },
    {
      "cell_type": "code",
      "metadata": {
        "id": "MF_DaEWXuZa6",
        "colab_type": "code",
        "colab": {}
      },
      "source": [
        "from sklearn.preprocessing import StandardScaler \n",
        "\n",
        "sc=StandardScaler()\n",
        "\n",
        "X_train=sc.fit_transform(X_train)\n",
        "\n",
        "X_test=sc.transform(X_test)"
      ],
      "execution_count": 0,
      "outputs": []
    },
    {
      "cell_type": "code",
      "metadata": {
        "id": "01GPlcOtuj77",
        "colab_type": "code",
        "colab": {}
      },
      "source": [
        "\n",
        "\n",
        "lorg=LogisticRegression(random_state=0)\n",
        "\n",
        "lorg.fit(X_train,Y_train) "
      ],
      "execution_count": 0,
      "outputs": []
    },
    {
      "cell_type": "code",
      "metadata": {
        "id": "bcCCUpbkurrJ",
        "colab_type": "code",
        "colab": {}
      },
      "source": [
        " Y_pred=lorg.predict(X_test)\n",
        "\n",
        "print(Y_pred)"
      ],
      "execution_count": 0,
      "outputs": []
    }
  ]
}